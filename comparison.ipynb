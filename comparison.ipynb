{
 "cells": [
  {
   "cell_type": "code",
   "execution_count": 6,
   "metadata": {
    "collapsed": true,
    "pycharm": {
     "name": "#%%\n"
    }
   },
   "outputs": [],
   "source": [
    "from itertools import starmap\n",
    "from pathlib import Path\n",
    "from typing import Tuple\n",
    "\n",
    "from X import X\n",
    "from algebra import Matrix, Vector, vector\n",
    "from bayes import NaiveBayes\n",
    "from logistic_regression import LogisticRegression\n",
    "\n",
    "\n",
    "def load(filepath: Path) -> Tuple[Matrix, Vector]:\n",
    "    assert filepath.exists() and filepath.is_file()\n",
    "\n",
    "    with filepath.open() as file:\n",
    "        lines = file.readlines()\n",
    "\n",
    "    samples = map(lambda l: l.split(), lines)\n",
    "    samples = (tuple(map(lambda v: int(v), s)) for s in samples)\n",
    "    samples = ((s[:-1], s[-1]) for s in samples)\n",
    "\n",
    "    return tuple(zip(*samples))"
   ]
  },
  {
   "cell_type": "code",
   "execution_count": 7,
   "outputs": [],
   "source": [
    "x,y = load(Path('breast-cancer.data'))\n",
    "x = X(vector(map(lambda xi: vector(map(lambda xij: xij-1, xi)), x)))\n",
    "y = vector(map(lambda r: 0 if r == 2 else 1, y))"
   ],
   "metadata": {
    "collapsed": false,
    "pycharm": {
     "name": "#%%\n"
    }
   }
  },
  {
   "cell_type": "code",
   "source": [
    "def compute_error(pred: Vector, y: Vector) -> float:\n",
    "    assert len(pred) == len(y)\n",
    "    same = sum(starmap(lambda a, b: a == b, zip(pred, y)))\n",
    "    return 1. - (float(same) / len(y))\n"
   ],
   "metadata": {
    "collapsed": false,
    "pycharm": {
     "name": "#%%\n"
    }
   },
   "execution_count": 8,
   "outputs": []
  },
  {
   "cell_type": "code",
   "execution_count": null,
   "outputs": [],
   "source": [],
   "metadata": {
    "collapsed": false,
    "pycharm": {
     "name": "#%%\n"
    }
   }
  },
  {
   "cell_type": "code",
   "execution_count": 3,
   "outputs": [],
   "source": [
    "b = NaiveBayes(9,10)\n",
    "h = b.train(x, y)"
   ],
   "metadata": {
    "collapsed": false,
    "pycharm": {
     "name": "#%%\n"
    }
   }
  },
  {
   "cell_type": "code",
   "execution_count": 4,
   "outputs": [
    {
     "name": "stdout",
     "output_type": "stream",
     "text": [
      "1.0\n",
      "1.0\n"
     ]
    }
   ],
   "source": [
    "lr = LogisticRegression()\n",
    "h2 = lr.train(x, y)"
   ],
   "metadata": {
    "collapsed": false,
    "pycharm": {
     "name": "#%%\n"
    }
   }
  },
  {
   "cell_type": "code",
   "execution_count": null,
   "outputs": [],
   "source": [
    "\n"
   ],
   "metadata": {
    "collapsed": false,
    "pycharm": {
     "name": "#%%\n"
    }
   }
  }
 ],
 "metadata": {
  "kernelspec": {
   "display_name": "Python 3",
   "language": "python",
   "name": "python3"
  },
  "language_info": {
   "codemirror_mode": {
    "name": "ipython",
    "version": 2
   },
   "file_extension": ".py",
   "mimetype": "text/x-python",
   "name": "python",
   "nbconvert_exporter": "python",
   "pygments_lexer": "ipython2",
   "version": "2.7.6"
  }
 },
 "nbformat": 4,
 "nbformat_minor": 0
}