{
 "cells": [
  {
   "cell_type": "code",
   "execution_count": 1,
   "outputs": [],
   "source": [
    "from itertools import starmap, product\n",
    "from math import log, exp\n",
    "from pathlib import Path\n",
    "from random import gauss\n",
    "from typing import NoReturn\n",
    "\n",
    "import matplotlib.pyplot as plt\n",
    "\n",
    "from utils.X import X\n",
    "from utils.algebra import Vector, vector, Scalar, mult_mv, diff_vv, sum_vv, mult_vs\n",
    "from utils.data_utils import load, split2\n",
    "from utils.model import Model\n",
    "from utils.stop_conditions import StopConditions\n"
   ],
   "metadata": {
    "collapsed": false,
    "pycharm": {
     "name": "#%%\n"
    }
   }
  },
  {
   "cell_type": "code",
   "execution_count": 2,
   "outputs": [],
   "source": [
    "def compute_error(pred: Vector, y: Vector) -> float:\n",
    "    assert len(pred) == len(y)\n",
    "    same = sum(starmap(lambda a, b: a == b, zip(pred, y)))\n",
    "    return 1. - (float(same) / len(y))\n"
   ],
   "metadata": {
    "collapsed": false,
    "pycharm": {
     "name": "#%%\n"
    }
   }
  },
  {
   "cell_type": "code",
   "execution_count": 3,
   "outputs": [],
   "source": [
    "class NaiveBayes(Model):\n",
    "    def __init__(self, nfeatures: int, domain_size: int):\n",
    "        self._domain_size, self._nfeatures = domain_size, nfeatures\n",
    "        self._py = 0.\n",
    "        self._pi = [[[0.] * self._domain_size for _ in range(self._nfeatures)],\n",
    "                    [[0.] * self._domain_size for _ in range(self._nfeatures)]]\n",
    "\n",
    "    def train(self, x: X, y: Vector) -> NoReturn:\n",
    "        assert x.nfeatures() == self._nfeatures\n",
    "\n",
    "        m = len(y)\n",
    "        ones = sum(y)\n",
    "        zeros = m - ones\n",
    "\n",
    "        self._py = (1. + ones) / (m + 2.)\n",
    "\n",
    "        counters = [[[0] * self._domain_size for _ in range(self._nfeatures)],\n",
    "                    [[0] * self._domain_size for _ in range(self._nfeatures)]]\n",
    "\n",
    "        for xi, yi in zip(x.by_sample(), y):\n",
    "            for j, xij in enumerate(xi):\n",
    "                counters[yi][j][xij] += 1\n",
    "\n",
    "        for y_val, feature, k in product([0, 1], range(self._nfeatures), range(self._domain_size)):\n",
    "            denominator = self._domain_size + y_val * ones + (1 - y_val) * zeros\n",
    "            self._pi[y_val][feature][k] = (1 + counters[y_val][feature][k]) / denominator\n",
    "\n",
    "    def _predict_one(self, x: Vector) -> Scalar:\n",
    "        assert len(x) == self._nfeatures\n",
    "        p0 = log(1. - self._py) + self._likelihood(x, 0)\n",
    "        p1 = log(self._py) + self._likelihood(x, 1)\n",
    "        return 0 if p0 >= p1 else 1\n",
    "\n",
    "    def _likelihood(self, x: Vector, y_val: Scalar):\n",
    "        assert y_val in [0, 1]\n",
    "        return sum(map(lambda k: log(self._pi[y_val][k][x[k]]), range(len(x))))\n"
   ],
   "metadata": {
    "collapsed": false,
    "pycharm": {
     "name": "#%%\n"
    }
   }
  },
  {
   "cell_type": "code",
   "execution_count": 4,
   "outputs": [],
   "source": [
    "STDEV = 1.\n",
    "STOP_CONDITION = StopConditions(0.000001, None, 2000)\n",
    "GRADIENT_STEP = 0.0001\n",
    "\n",
    "\n",
    "class LogisticRegression(Model):\n",
    "    def __init__(self):\n",
    "        self._theta = None\n",
    "\n",
    "    def train(self, x: X, y: Vector) -> NoReturn:\n",
    "        x = x.append_ones()\n",
    "\n",
    "        theta = vector(map(lambda _: gauss(0., STDEV), range(x.nfeatures())))\n",
    "\n",
    "        stop_condition, stop = STOP_CONDITION, False\n",
    "        while not stop:\n",
    "            prediction = self._compute_prob(x, theta)\n",
    "            diff = diff_vv(y, prediction)\n",
    "            gradient = mult_mv(x.by_feature(), diff)\n",
    "\n",
    "            theta = sum_vv(theta, mult_vs(gradient, GRADIENT_STEP))\n",
    "            error = compute_error(self._decide(prediction), y)\n",
    "\n",
    "            stop_condition, stop = stop_condition.update(gradient, error)\n",
    "            # print(error)\n",
    "        self._theta = theta\n",
    "\n",
    "    @staticmethod\n",
    "    def _compute_prob(x: X, theta: Vector) -> Vector:\n",
    "        multiplied = mult_mv(x.by_sample(), theta)\n",
    "        return vector(map(lambda m: 1. / (1. + exp(-m)), multiplied))\n",
    "\n",
    "    @staticmethod\n",
    "    def _decide(ps: Vector) -> Vector:\n",
    "        return vector(map(lambda p: 0 if p <= 0.5 else 1, ps))\n",
    "\n",
    "    def predict(self, x: X) -> Vector:\n",
    "        assert self._theta is not None, \"Model not trained yet\"\n",
    "        x = x.append_ones()\n",
    "        prob = self._compute_prob(x, self._theta)\n",
    "        return self._decide(prob)\n"
   ],
   "metadata": {
    "collapsed": false,
    "pycharm": {
     "name": "#%%\n"
    }
   }
  },
  {
   "cell_type": "code",
   "execution_count": 5,
   "outputs": [],
   "source": [
    "x, y = load(Path('breast-cancer.data'))\n",
    "x = vector(map(lambda xi: vector(map(lambda xij: xij - 1, xi)), x))\n",
    "y = vector(map(lambda r: 0 if r == 2 else 1, y))"
   ],
   "metadata": {
    "collapsed": false,
    "pycharm": {
     "name": "#%%\n"
    }
   }
  },
  {
   "cell_type": "code",
   "execution_count": 6,
   "outputs": [
    {
     "data": {
      "text/plain": "<Figure size 432x288 with 1 Axes>",
      "image/png": "[encoded data removed]"
     },
     "metadata": {
      "needs_background": "light"
     },
     "output_type": "display_data"
    }
   ],
   "source": [
    "REPETITION = 5\n",
    "train_fractions = [0.01, 0.02, 0.03, 0.125, 0.625, 1]\n",
    "\n",
    "bayes_cum_errors = [0. for _ in train_fractions]\n",
    "logistic_cum_errors = [0. for _ in train_fractions]\n",
    "\n",
    "for _ in range(REPETITION):\n",
    "    (x_train, y_train), (x_test, y_test) = split2(x, y, 2 / 3)\n",
    "    x_test = X(x_test)\n",
    "\n",
    "    m = len(x_train)\n",
    "    for i, tf in enumerate(train_fractions):\n",
    "        avail_x_train, avail_y_train = X(x_train[:int(tf * m)]), y_train[:int(tf * m)]\n",
    "\n",
    "        bayes = NaiveBayes(9, 10)\n",
    "        bayes.train(avail_x_train, avail_y_train)\n",
    "        bayes_cum_errors[i] += compute_error(bayes.predict(x_test), y_test)\n",
    "\n",
    "        lr = LogisticRegression()\n",
    "        lr.train(avail_x_train, avail_y_train)\n",
    "        logistic_cum_errors[i] += compute_error(lr.predict(x_test), y_test)\n",
    "\n",
    "bayes_cum_errors = list(map(lambda e: e / REPETITION, bayes_cum_errors))\n",
    "logistic_cum_errors = list(map(lambda e: e / REPETITION, logistic_cum_errors))\n",
    "\n",
    "plt.plot(train_fractions, bayes_cum_errors, label='Naive Bayes')\n",
    "plt.plot(train_fractions, logistic_cum_errors, label='Logistic regression')\n",
    "plt.legend()\n",
    "plt.show()"
   ],
   "metadata": {
    "collapsed": false,
    "pycharm": {
     "name": "#%%\n"
    }
   }
  }
 ],
 "metadata": {
  "kernelspec": {
   "display_name": "Python 3",
   "language": "python",
   "name": "python3"
  },
  "language_info": {
   "codemirror_mode": {
    "name": "ipython",
    "version": 2
   },
   "file_extension": ".py",
   "mimetype": "text/x-python",
   "name": "python",
   "nbconvert_exporter": "python",
   "pygments_lexer": "ipython2",
   "version": "2.7.6"
  }
 },
 "nbformat": 4,
 "nbformat_minor": 0
}