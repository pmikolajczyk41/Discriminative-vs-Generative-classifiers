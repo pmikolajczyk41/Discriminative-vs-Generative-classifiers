{
 "cells": [
  {
   "cell_type": "code",
   "execution_count": 17,
   "metadata": {
    "collapsed": true,
    "pycharm": {
     "name": "#%%\n"
    }
   },
   "outputs": [],
   "source": [
    "from pathlib import Path\n",
    "from typing import Tuple\n",
    "from algebra import Matrix, Vector, vector\n",
    "\n",
    "\n",
    "def load(filepath: Path) -> Tuple[Matrix, Vector]:\n",
    "    assert filepath.exists() and filepath.is_file()\n",
    "\n",
    "    with filepath.open() as file:\n",
    "        lines = file.readlines()\n",
    "\n",
    "    samples = map(lambda l: l.split(), lines)\n",
    "    samples = (tuple(map(lambda v: int(v), s)) for s in samples)\n",
    "    samples = ((s[:-1], s[-1]) for s in samples)\n",
    "\n",
    "    return tuple(zip(*samples))"
   ]
  },
  {
   "cell_type": "code",
   "execution_count": 18,
   "outputs": [],
   "source": [
    "x,y = load(Path('breast-cancer.data'))\n",
    "y = vector(map(lambda r: 0 if r == 2 else 1, y))"
   ],
   "metadata": {
    "collapsed": false,
    "pycharm": {
     "name": "#%%\n"
    }
   }
  },
  {
   "cell_type": "code",
   "execution_count": null,
   "outputs": [],
   "source": [
    "\n"
   ],
   "metadata": {
    "collapsed": false,
    "pycharm": {
     "name": "#%%\n"
    }
   }
  }
 ],
 "metadata": {
  "kernelspec": {
   "display_name": "Python 3",
   "language": "python",
   "name": "python3"
  },
  "language_info": {
   "codemirror_mode": {
    "name": "ipython",
    "version": 2
   },
   "file_extension": ".py",
   "mimetype": "text/x-python",
   "name": "python",
   "nbconvert_exporter": "python",
   "pygments_lexer": "ipython2",
   "version": "2.7.6"
  }
 },
 "nbformat": 4,
 "nbformat_minor": 0
}